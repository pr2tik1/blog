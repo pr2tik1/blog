{
 "cells": [
  {
   "cell_type": "raw",
   "metadata": {},
   "source": [
    "---\n",
    "title: Hierarchical Data Visualization Demystified\n",
    "image: ../post-images/seventeen.jpeg\n",
    "title-block-style: default\n",
    "title-block-banner: black\n",
    "title-block-banner-color: white\n",
    "execute:\n",
    "  enabled: true\n",
    "format:\n",
    "  html:\n",
    "    code-fold: false\n",
    "author: Pratik Kumar\n",
    "date: '2023-06-19'\n",
    "categories:\n",
    "  - data visualization\n",
    "  - Plotly\n",
    "  - Python\n",
    "  - Blog\n",
    "website:\n",
    "  back-to-top-navigation: true\n",
    "  page-footer: 'Copyright 2023, Pratik Kumar'\n",
    "toc: true\n",
    "comments:\n",
    "  utterances:\n",
    "    repo: pr2tik1/pr2tik1.github.io\n",
    "---"
   ]
  },
  {
   "cell_type": "markdown",
   "metadata": {
    "tags": []
   },
   "source": [
    "## Introduction \n",
    "\n",
    "Data visualization plays a vital role in various domains such as data analytics, data science, data dashboarding, and exploratory/statistical analysis. Within the Python and R ecosystems, there are several popular visualization libraries commonly used such as :\n",
    "\n",
    "- [Matplotlib](https://matplotlib.org)\n",
    "- [Seaborn](https://seaborn.pydata.org)\n",
    "- [Plotly](https://plotly.com)\n",
    "- [Altair](https://altair-viz.github.io)\n",
    "- [Bokeh](https://bokeh.org)\n",
    "\n",
    "Among these, the widely used library is the Plotly Graphing Library, which offers libraries in multiple languages, high-quality scientific/non-scientific graphs, and easily shareable interactive plots.\n",
    "\n",
    "In this post, I will be discussing an intriguing plot called the <b>Sunburst Chart</b>. Sunburst charts provide an interactive visualization of layered information, allowing for an enhanced understanding of complex data structures.\n",
    "\n",
    "## Sunburst Chart\n",
    "\n",
    "A sunburst chart is a powerful visualization tool used to represent hierarchical datasets. In a hierarchical dataset, there exists a parent-child relationship among the features or variables, resembling a tree-like structure. To generate a sunburst plot using Plotly, you can leverage the capabilities of either plotly.express or plotly.graph_objects libraries.\n",
    "\n",
    "Now, let's delve into how this data would appear by visualizing it using a sunburst chart.\n",
    "\n",
    "## Hierarchical Data\n",
    "\n",
    "Hierarchical datasets are a type of data organization where the data is structured in a hierarchical manner, forming a tree-like structure. In this structure, data elements are grouped into parent-child relationships, where each parent can have one or more children, and each child can be a parent of other elements, forming multiple levels of nesting.\n",
    "\n",
    "Consider an example dataframe (dummy data for demonstration purposes) with a tree-like structure, where the columns or features exhibit parent-child relationships with other columns.\n",
    "\n",
    "- General Dataset: This dataframe contains classes and values organized in columns, as depicted in the sample data provided.\n",
    "\n",
    "- Sunburst Dataset: This hierarchical dataframe defines the logical parent-child relationships between columns and their corresponding values.\n",
    "\n",
    "The following dataset is a dummy data for demonstration. "
   ]
  },
  {
   "cell_type": "code",
   "execution_count": null,
   "metadata": {
    "vscode": {
     "languageId": "python"
    }
   },
   "outputs": [],
   "source": [
    "#Importing pandas to handle dataframe\n",
    "import pandas as pd\n",
    "# Suppress pandas warnings\n",
    "import warnings\n",
    "warnings.filterwarnings(\"ignore\")"
   ]
  },
  {
   "cell_type": "code",
   "execution_count": null,
   "metadata": {},
   "outputs": [],
   "source": [
    "data = pd.read_csv(\"../data/dummy_data.csv\")\n",
    "data.head(5)"
   ]
  },
  {
   "cell_type": "markdown",
   "metadata": {},
   "source": [
    "The dataset is not in hierachical form. The sunburst chart needs a parent, child and value variable for generating the plot. Hence, we need to convert the table into a 'chart-acceptable' format. The following function performs the job. The function is modified version of original function defined at Plotly's documentation, to know more about this please visit [here](https://plotly.com/python/sunburst-charts/#:~:text=Charred-,Sunburst%20chart%20with%20a%20continuous%20colorscale,-The%20example%20below)."
   ]
  },
  {
   "cell_type": "code",
   "execution_count": null,
   "metadata": {
    "tags": [],
    "vscode": {
     "languageId": "python"
    }
   },
   "outputs": [],
   "source": [
    "def build_hierarchical_dataframe(df, levels, value_column, metric):\n",
    "    \"\"\"\n",
    "    Build a hierarchy of levels for Sunburst.\n",
    "    \n",
    "    Args:\n",
    "        df (pd.DataFrame): Input pandas DataFrame.\n",
    "        levels (list): List of column names in the order, child to root.\n",
    "        value_column (str): Name of the column to display in the chart.\n",
    "        metric (str): Specifies the metric, either \"sum\" or \"count\".\n",
    "        \n",
    "    Returns:\n",
    "        pd.DataFrame: A pandas DataFrame for Sunburst with columns ['id', 'parent', 'value'].\n",
    "    \"\"\"\n",
    "    df_all_trees = pd.DataFrame(columns=['id', 'parent', 'value'])\n",
    "    \n",
    "    for i, level in enumerate(levels):\n",
    "        df_tree = pd.DataFrame(columns=['id', 'parent', 'value'])\n",
    "        \n",
    "        # Groupby based on the chosen metric\n",
    "        if metric == \"count\":\n",
    "            dfg = df.groupby(levels[i:]).count()\n",
    "        else:\n",
    "            dfg = df.groupby(levels[i:]).sum()\n",
    "        \n",
    "        dfg = dfg.reset_index()\n",
    "        df_tree['id'] = dfg[level].copy()\n",
    "\n",
    "        # Set parent of the levels\n",
    "        if i < len(levels) - 1:\n",
    "            df_tree['parent'] = dfg[levels[i+1]].copy()\n",
    "        else:\n",
    "            df_tree['parent'] = 'Total'\n",
    "        \n",
    "        df_tree['value'] = dfg[value_column]\n",
    "        df_all_trees = pd.concat([df_all_trees, df_tree], ignore_index=True)\n",
    "    \n",
    "    # Value calculation for the parent\n",
    "    if metric == \"count\":\n",
    "        total = pd.Series(dict(id='Total', parent='', value=df[value_column].count()))\n",
    "    else:\n",
    "        total = pd.Series(dict(id='Total', parent='', value=df[value_column].sum()))\n",
    "    \n",
    "    # Add frames one below the other to form the final dataframe\n",
    "    df_all_trees = pd.concat([df_all_trees, pd.DataFrame([total])], ignore_index=True)\n",
    "    return df_all_trees"
   ]
  },
  {
   "cell_type": "code",
   "execution_count": null,
   "metadata": {
    "vscode": {
     "languageId": "python"
    }
   },
   "outputs": [],
   "source": [
    "levels = ['City', 'State', 'Country'] \n",
    "value_column = 'Population'"
   ]
  },
  {
   "cell_type": "markdown",
   "metadata": {},
   "source": [
    "### (1) Hierarchical Sum dataframe\n",
    "\n",
    "This dataframe represents total population accross Country, State and City under study."
   ]
  },
  {
   "cell_type": "code",
   "execution_count": null,
   "metadata": {
    "vscode": {
     "languageId": "python"
    }
   },
   "outputs": [],
   "source": [
    "df_sum=build_hierarchical_dataframe(data, levels, value_column, metric=\"sum\")\n",
    "df_sum.head()"
   ]
  },
  {
   "cell_type": "markdown",
   "metadata": {},
   "source": [
    "### (2) Hierarchical Count dataframe\n",
    "\n",
    "This dataframe represents number of sub-classes (like City) accross Country and State under study."
   ]
  },
  {
   "cell_type": "code",
   "execution_count": null,
   "metadata": {
    "vscode": {
     "languageId": "python"
    }
   },
   "outputs": [],
   "source": [
    "df_count=build_hierarchical_dataframe(data, levels, value_column, metric=\"count\")\n",
    "df_count.head()"
   ]
  },
  {
   "cell_type": "markdown",
   "metadata": {},
   "source": [
    "## Visualisation\n",
    "\n",
    "Now we would see the two most common ways of plotting sunburst charts in python. The user can choose any of the following modules,\n",
    "\n",
    "1. Plotly Express\n",
    "2. Plotly Graph Objects\n",
    "\n",
    "Both of these modules generate same *\"figure object\"*. Just the difference comes in code syntax and in flexibility of modifying graph as required. Plotly express is more of generating plot by calling function from already defined set of parameters. One may be more comfortable in tweaking the details while working with graph objects. However, the beauty of plotly is that you are able do the same things in the figure generated from plotly express as those are possible in that with graph objects. \n",
    "<br>\n",
    "\n",
    "We will be using both of them, and generate the plots for the datasets generated in the above section. "
   ]
  },
  {
   "cell_type": "code",
   "execution_count": null,
   "metadata": {
    "vscode": {
     "languageId": "python"
    }
   },
   "outputs": [],
   "source": [
    "from io import StringIO\n",
    "from IPython.display import display_html, HTML"
   ]
  },
  {
   "cell_type": "markdown",
   "metadata": {},
   "source": [
    "### (1) Plotly Express"
   ]
  },
  {
   "cell_type": "code",
   "execution_count": null,
   "metadata": {
    "vscode": {
     "languageId": "python"
    }
   },
   "outputs": [],
   "source": [
    "import plotly.express as px \n",
    "\n",
    "figure = px.sunburst(data, path=['Country', 'State', 'City'], values='Population')\n",
    "figure.update_layout(margin=dict(t=10, b=10, r=10, l=10))\n",
    "figure.show() \n",
    "# HTML(figure.to_html(include_plotlyjs='cdn'))"
   ]
  },
  {
   "cell_type": "markdown",
   "metadata": {},
   "source": [
    "### (2) Graph Objects"
   ]
  },
  {
   "cell_type": "code",
   "execution_count": null,
   "metadata": {
    "vscode": {
     "languageId": "python"
    }
   },
   "outputs": [],
   "source": [
    "import plotly.graph_objects as go\n",
    "\n",
    "figure = go.Figure()\n",
    "figure.add_trace(go.Sunburst(\n",
    "        labels=df_sum['id'],\n",
    "        parents=df_sum['parent'],\n",
    "        values=df_sum['value'],\n",
    "        branchvalues='total',\n",
    "        marker=dict(colorscale='Rdbu'),\n",
    "        hovertemplate='<b> Country : %{label} </b> <br> Count : %{value} <extra>Population</extra>',\n",
    "        maxdepth=2)\n",
    "    )\n",
    "figure.update_layout(margin=dict(t=10, b=10, r=10, l=10))\n",
    "figure.show() \n",
    "# HTML(figure.to_html(include_plotlyjs='cdn'))"
   ]
  },
  {
   "cell_type": "markdown",
   "metadata": {},
   "source": [
    "## Communicating Plots with JSON\n",
    "\n",
    "We can take these plots and convert them to JSONs. This comes handy when we need the plots to communicate from server part of a web application to client. Plotly has in-built function to save figure as json : *write_json()*. Following cells show how to write and regenerate the plots."
   ]
  },
  {
   "cell_type": "code",
   "execution_count": null,
   "metadata": {
    "vscode": {
     "languageId": "python"
    }
   },
   "outputs": [],
   "source": [
    "figure.write_json(\"../data/Sunburst_Chart.json\")"
   ]
  },
  {
   "cell_type": "code",
   "execution_count": null,
   "metadata": {
    "vscode": {
     "languageId": "python"
    }
   },
   "outputs": [],
   "source": [
    "import json\n",
    "\n",
    "opened_file = open(\"../data/Sunburst_Chart.json\")\n",
    "opened_fig = json.load(opened_file)\n",
    "\n",
    "fig_ = go.Figure(\n",
    "    data = opened_fig['data'],\n",
    "    layout = opened_fig['layout']\n",
    "    )\n",
    "fig_.show()\n",
    "# HTML(fig_.to_html()) "
   ]
  },
  {
   "cell_type": "markdown",
   "metadata": {},
   "source": [
    "## Custom Plots\n",
    "\n",
    "In this final section we would see the go.Figure subplots, where fully customize the plots.  "
   ]
  },
  {
   "cell_type": "code",
   "execution_count": null,
   "metadata": {
    "vscode": {
     "languageId": "python"
    }
   },
   "outputs": [],
   "source": [
    "from plotly.subplots import make_subplots\n",
    "\n",
    "fig = make_subplots(1, 2, specs=[[{\"type\": \"domain\"}, {\"type\": \"domain\"}]],)\n",
    "fig.add_trace(go.Sunburst(\n",
    "    labels=df_sum['id'],\n",
    "    parents=df_sum['parent'],\n",
    "    values=df_sum['value'],\n",
    "    branchvalues='total',\n",
    "    marker=dict(colorscale='sunset'),\n",
    "    hovertemplate='<b> Country : %{label} </b> <br> Count : %{value} <extra>Population</extra>',\n",
    "    maxdepth=2), 1, 1)\n",
    "\n",
    "fig.add_trace(go.Sunburst(\n",
    "    labels=df_count['id'],\n",
    "    parents=df_count['parent'],\n",
    "    values=df_count['value'],\n",
    "    branchvalues='total',\n",
    "    marker=dict(colorscale='viridis'),\n",
    "    hovertemplate='<b> Country : %{label} </b> <br> Count : %{value} <extra>Cities</extra>',\n",
    "    maxdepth=2), 1, 2)\n",
    "\n",
    "fig.update_layout(margin=dict(t=10, b=10, r=10, l=10))\n",
    "fig.show()\n",
    "# HTML(fig.to_html()) "
   ]
  },
  {
   "cell_type": "markdown",
   "metadata": {},
   "source": [
    "## Only Sunburst ? What are some alternatives to Sunburst ?\n",
    "\n",
    "Sunburst is one of the ways of visualizing the Hierarchical Data, we can also visualize such datasets using  Treemap charts. For example - "
   ]
  },
  {
   "cell_type": "code",
   "execution_count": null,
   "metadata": {},
   "outputs": [],
   "source": [
    "fig = px.treemap(data, \n",
    "                 path=[px.Constant(\"World\"), 'Country', 'State', 'City'], \n",
    "                 values='Population')\n",
    "fig.update_layout(margin = dict(t=50, l=25, r=25, b=25))\n",
    "fig.show()"
   ]
  },
  {
   "cell_type": "markdown",
   "metadata": {},
   "source": [
    "# Thank you \n"
   ]
  }
 ],
 "metadata": {
  "kernelspec": {
   "display_name": "Python 3 (ipykernel)",
   "language": "python",
   "name": "python3"
  },
  "language_info": {
   "codemirror_mode": {
    "name": "ipython",
    "version": 3
   },
   "file_extension": ".py",
   "mimetype": "text/x-python",
   "name": "python",
   "nbconvert_exporter": "python",
   "pygments_lexer": "ipython3",
   "version": "3.10.7"
  }
 },
 "nbformat": 4,
 "nbformat_minor": 4
}
