{
 "cells": [
  {
   "cell_type": "code",
   "execution_count": null,
   "id": "8931a882-b63d-4531-ad26-920d6e6697db",
   "metadata": {},
   "outputs": [],
   "source": [
    "---\n",
    "title: End to end R-Shiny project management\n",
    "image: ../post-images/seventeen.jpeg\n",
    "title-block-style: default\n",
    "title-block-banner: black\n",
    "title-block-banner-color: white\n",
    "execute:\n",
    "  enabled: true\n",
    "format:\n",
    "  html:\n",
    "    code-fold: false\n",
    "author: Pratik Kumar\n",
    "date: '2023-06-19'\n",
    "categories:\n",
    "  - Project Management\n",
    "  - R\n",
    "  - R-Shiny\n",
    "website:\n",
    "  back-to-top-navigation: true\n",
    "  page-footer: 'Copyright 2023, Pratik Kumar'\n",
    "toc: true\n",
    "comments:\n",
    "  utterances:\n",
    "    repo: pr2tik1/pr2tik1.github.io\n",
    "---"
   ]
  },
  {
   "cell_type": "code",
   "execution_count": null,
   "id": "482dc293-d2cb-4963-809d-03a9ebd47d7a",
   "metadata": {},
   "outputs": [],
   "source": []
  }
 ],
 "metadata": {
  "kernelspec": {
   "display_name": "Python 3 (ipykernel)",
   "language": "python",
   "name": "python3"
  },
  "language_info": {
   "codemirror_mode": {
    "name": "ipython",
    "version": 3
   },
   "file_extension": ".py",
   "mimetype": "text/x-python",
   "name": "python",
   "nbconvert_exporter": "python",
   "pygments_lexer": "ipython3",
   "version": "3.10.7"
  }
 },
 "nbformat": 4,
 "nbformat_minor": 5
}
